{
 "cells": [
  {
   "cell_type": "markdown",
   "id": "c654a9f2",
   "metadata": {},
   "source": [
    "# <center>Кластеризацiя засобами бiблiотеки Scikit-Learn Python</center>"
   ]
  },
  {
   "cell_type": "markdown",
   "id": "8eec353a",
   "metadata": {},
   "source": [
    "### 1. Графічне представлення даних"
   ]
  },
  {
   "cell_type": "code",
   "execution_count": 1,
   "id": "3a5adba9",
   "metadata": {},
   "outputs": [],
   "source": [
    "#імпортуємо усі модулі, які будемо використовувати надалі\n",
    "\n",
    "import time\n",
    "import numpy as np\n",
    "import matplotlib.pyplot as plt\n",
    "import pandas as pd\n",
    "from sklearn.datasets import make_moons\n",
    "from sklearn.cluster import SpectralClustering\n",
    "from sklearn.metrics import davies_bouldin_score\n",
    "from sklearn.metrics import silhouette_score\n",
    "from sklearn.metrics import adjusted_rand_score"
   ]
  },
  {
   "cell_type": "code",
   "execution_count": 2,
   "id": "340ab4ac",
   "metadata": {},
   "outputs": [
    {
     "data": {
      "text/html": [
       "<div>\n",
       "<style scoped>\n",
       "    .dataframe tbody tr th:only-of-type {\n",
       "        vertical-align: middle;\n",
       "    }\n",
       "\n",
       "    .dataframe tbody tr th {\n",
       "        vertical-align: top;\n",
       "    }\n",
       "\n",
       "    .dataframe thead th {\n",
       "        text-align: right;\n",
       "    }\n",
       "</style>\n",
       "<table border=\"1\" class=\"dataframe\">\n",
       "  <thead>\n",
       "    <tr style=\"text-align: right;\">\n",
       "      <th></th>\n",
       "      <th>X1</th>\n",
       "      <th>X2</th>\n",
       "      <th>y</th>\n",
       "    </tr>\n",
       "  </thead>\n",
       "  <tbody>\n",
       "    <tr>\n",
       "      <th>0</th>\n",
       "      <td>0.988653</td>\n",
       "      <td>0.147396</td>\n",
       "      <td>0</td>\n",
       "    </tr>\n",
       "    <tr>\n",
       "      <th>1</th>\n",
       "      <td>0.211315</td>\n",
       "      <td>1.000142</td>\n",
       "      <td>0</td>\n",
       "    </tr>\n",
       "    <tr>\n",
       "      <th>2</th>\n",
       "      <td>1.702444</td>\n",
       "      <td>-0.212700</td>\n",
       "      <td>1</td>\n",
       "    </tr>\n",
       "    <tr>\n",
       "      <th>3</th>\n",
       "      <td>0.167409</td>\n",
       "      <td>0.030187</td>\n",
       "      <td>1</td>\n",
       "    </tr>\n",
       "    <tr>\n",
       "      <th>4</th>\n",
       "      <td>1.759524</td>\n",
       "      <td>-0.089843</td>\n",
       "      <td>1</td>\n",
       "    </tr>\n",
       "    <tr>\n",
       "      <th>...</th>\n",
       "      <td>...</td>\n",
       "      <td>...</td>\n",
       "      <td>...</td>\n",
       "    </tr>\n",
       "    <tr>\n",
       "      <th>9995</th>\n",
       "      <td>-0.925459</td>\n",
       "      <td>0.385375</td>\n",
       "      <td>0</td>\n",
       "    </tr>\n",
       "    <tr>\n",
       "      <th>9996</th>\n",
       "      <td>0.185799</td>\n",
       "      <td>-0.127954</td>\n",
       "      <td>1</td>\n",
       "    </tr>\n",
       "    <tr>\n",
       "      <th>9997</th>\n",
       "      <td>0.889153</td>\n",
       "      <td>0.486508</td>\n",
       "      <td>0</td>\n",
       "    </tr>\n",
       "    <tr>\n",
       "      <th>9998</th>\n",
       "      <td>-0.423944</td>\n",
       "      <td>0.888138</td>\n",
       "      <td>0</td>\n",
       "    </tr>\n",
       "    <tr>\n",
       "      <th>9999</th>\n",
       "      <td>-0.985850</td>\n",
       "      <td>0.240875</td>\n",
       "      <td>0</td>\n",
       "    </tr>\n",
       "  </tbody>\n",
       "</table>\n",
       "<p>10000 rows × 3 columns</p>\n",
       "</div>"
      ],
      "text/plain": [
       "            X1        X2  y\n",
       "0     0.988653  0.147396  0\n",
       "1     0.211315  1.000142  0\n",
       "2     1.702444 -0.212700  1\n",
       "3     0.167409  0.030187  1\n",
       "4     1.759524 -0.089843  1\n",
       "...        ...       ... ..\n",
       "9995 -0.925459  0.385375  0\n",
       "9996  0.185799 -0.127954  1\n",
       "9997  0.889153  0.486508  0\n",
       "9998 -0.423944  0.888138  0\n",
       "9999 -0.985850  0.240875  0\n",
       "\n",
       "[10000 rows x 3 columns]"
      ]
     },
     "execution_count": 2,
     "metadata": {},
     "output_type": "execute_result"
    }
   ],
   "source": [
    "X, y = make_moons(n_samples = 10000, noise=0.04)\n",
    "df = pd.DataFrame(dict(X1=X[:, 0], X2=X[:, 1], y=y))\n",
    "df"
   ]
  },
  {
   "cell_type": "code",
   "execution_count": 3,
   "id": "0b33d113",
   "metadata": {
    "scrolled": true
   },
   "outputs": [
    {
     "data": {
      "image/png": "[encoded data removed]",
      "text/plain": [
       "<Figure size 504x360 with 1 Axes>"
      ]
     },
     "metadata": {
      "needs_background": "light"
     },
     "output_type": "display_data"
    }
   ],
   "source": [
    "plt.figure(figsize=(7,5))\n",
    "plt.scatter(X[y == 1, 0], X[y == 1, 1], c='red', label='y = 1')\n",
    "plt.scatter(X[y == 0, 0], X[y == 0, 1], c='red', label='y = 0')\n",
    "plt.xlabel(\"X1\")\n",
    "plt.ylabel(\"X2\")\n",
    "plt.title('Графічне представлення набору даних', size = 16 )\n",
    "plt.legend()\n",
    "plt.show()"
   ]
  },
  {
   "cell_type": "markdown",
   "id": "d20278d3",
   "metadata": {},
   "source": [
    "### 2,3.Побудова моделі кластеризації"
   ]
  },
  {
   "cell_type": "code",
   "execution_count": 4,
   "id": "a458ca71",
   "metadata": {
    "scrolled": true
   },
   "outputs": [
    {
     "name": "stderr",
     "output_type": "stream",
     "text": [
      "D:\\anaconda\\lib\\site-packages\\sklearn\\manifold\\_spectral_embedding.py:259: UserWarning: Graph is not fully connected, spectral embedding may not work as expected.\n",
      "  warnings.warn(\n"
     ]
    }
   ],
   "source": [
    "from sklearn.cluster import SpectralClustering\n",
    "\n",
    "start = time.time()\n",
    "sc = SpectralClustering(n_clusters=2, affinity='nearest_neighbors').fit(X)\n",
    "end = time.time()"
   ]
  },
  {
   "cell_type": "markdown",
   "id": "fcf58e25",
   "metadata": {},
   "source": [
    "### 4. Графічне представлення розбиття на кластери"
   ]
  },
  {
   "cell_type": "code",
   "execution_count": 5,
   "id": "0b0d8a6b",
   "metadata": {},
   "outputs": [
    {
     "data": {
      "image/png": "[encoded data removed]",
      "text/plain": [
       "<Figure size 432x288 with 1 Axes>"
      ]
     },
     "metadata": {
      "needs_background": "light"
     },
     "output_type": "display_data"
    }
   ],
   "source": [
    "labels = sc.labels_\n",
    "plt.scatter(X[:,0], X[:,1], c=labels)\n",
    "plt.show()"
   ]
  },
  {
   "cell_type": "markdown",
   "id": "feed3a86",
   "metadata": {},
   "source": [
    "### 5. Розрахунок часу кластеризації"
   ]
  },
  {
   "cell_type": "code",
   "execution_count": 6,
   "id": "c8d2a504",
   "metadata": {},
   "outputs": [
    {
     "name": "stdout",
     "output_type": "stream",
     "text": [
      "The time of execution of above program is : 83.8563723564148 sec\n"
     ]
    }
   ],
   "source": [
    "print(\"The time of execution of above program is :\",\n",
    "      (end-start), \"sec\")"
   ]
  },
  {
   "cell_type": "markdown",
   "id": "4ec9b931",
   "metadata": {},
   "source": [
    "### 6. Побудова альтернативних моделей"
   ]
  },
  {
   "cell_type": "code",
   "execution_count": 54,
   "id": "54f41dd1",
   "metadata": {},
   "outputs": [
    {
     "name": "stderr",
     "output_type": "stream",
     "text": [
      "D:\\anaconda\\lib\\site-packages\\sklearn\\manifold\\_spectral_embedding.py:259: UserWarning: Graph is not fully connected, spectral embedding may not work as expected.\n",
      "  warnings.warn(\n",
      "D:\\anaconda\\lib\\site-packages\\sklearn\\manifold\\_spectral_embedding.py:259: UserWarning: Graph is not fully connected, spectral embedding may not work as expected.\n",
      "  warnings.warn(\n"
     ]
    }
   ],
   "source": [
    "# перші дві альтернативні моделі матимуть різні значення кластерів\n",
    "\n",
    "start_3 = time.time()\n",
    "sc_3 = SpectralClustering(n_clusters=3, affinity='nearest_neighbors').fit(X)\n",
    "end_3 = time.time()\n",
    "sc_4 = SpectralClustering(n_clusters=4, affinity='nearest_neighbors').fit(X)\n",
    "end_4 = time.time()"
   ]
  },
  {
   "cell_type": "code",
   "execution_count": 14,
   "id": "7185f968",
   "metadata": {
    "scrolled": true
   },
   "outputs": [
    {
     "data": {
      "image/png": "[encoded data removed]",
      "text/plain": [
       "<Figure size 432x288 with 1 Axes>"
      ]
     },
     "metadata": {
      "needs_background": "light"
     },
     "output_type": "display_data"
    }
   ],
   "source": [
    "labels_3 = sc_3.labels_\n",
    "plt.scatter(X[:,0], X[:,1], c=labels_3, cmap='plasma')\n",
    "plt.title('Розбиття даних на 3 кластери', size=15)\n",
    "plt.xlabel(\"X1\")\n",
    "plt.ylabel(\"X2\")\n",
    "plt.show()"
   ]
  },
  {
   "cell_type": "code",
   "execution_count": 10,
   "id": "6101e340",
   "metadata": {},
   "outputs": [
    {
     "data": {
      "image/png": "[encoded data removed]",
      "text/plain": [
       "<Figure size 432x288 with 1 Axes>"
      ]
     },
     "metadata": {
      "needs_background": "light"
     },
     "output_type": "display_data"
    }
   ],
   "source": [
    "labels_4 = sc_4.labels_\n",
    "plt.scatter(X[:,0], X[:,1], c=labels_4, cmap='plasma')\n",
    "plt.title('Розбиття даних на 4 кластери', size=15)\n",
    "plt.xlabel(\"X1\")\n",
    "plt.ylabel(\"X2\")\n",
    "plt.show()"
   ]
  },
  {
   "cell_type": "code",
   "execution_count": 55,
   "id": "7368553a",
   "metadata": {
    "scrolled": true
   },
   "outputs": [
    {
     "name": "stdout",
     "output_type": "stream",
     "text": [
      "Результати метрик якості для альтернативної моделі sc_3:\n",
      "\n",
      "Davies-Bouldin Score: 1.0838361750615941\n",
      "Silhouette Score: 0.35195081217648827\n",
      "Adjusted Rand Score: 0.7499979073421581\n",
      "Work Time for model sc_3: 52.638469219207764 sec\n"
     ]
    }
   ],
   "source": [
    "print(\"Результати метрик якості для альтернативної моделі sc_3:\\n\")\n",
    "print('Davies-Bouldin Score:',davies_bouldin_score(X, labels_3))\n",
    "print(\"Silhouette Score:\",silhouette_score(X, labels_3))\n",
    "print(\"Adjusted Rand Score:\",adjusted_rand_score(y, labels_3))\n",
    "print('Work Time for model sc_3:', (end_3-start_3), 'sec')"
   ]
  },
  {
   "cell_type": "code",
   "execution_count": 57,
   "id": "a4c9213a",
   "metadata": {},
   "outputs": [
    {
     "name": "stdout",
     "output_type": "stream",
     "text": [
      "Результати метрик якості для альтернативної моделі sc_4:\n",
      "\n",
      "Davies-Bouldin Score: 0.7862251459487535\n",
      "Silhouette Score: 0.4936350882169656\n",
      "Adjusted Rand Score: 0.5003868736105368\n",
      "Work Time for model sc_4: 22.04704999923706 sec\n"
     ]
    }
   ],
   "source": [
    "print(\"Результати метрик якості для альтернативної моделі sc_4:\\n\")\n",
    "print('Davies-Bouldin Score:',davies_bouldin_score(X, labels_4))\n",
    "print(\"Silhouette Score:\",silhouette_score(X, labels_4))\n",
    "print(\"Adjusted Rand Score:\",adjusted_rand_score(y, labels_4))\n",
    "print('Work Time for model sc_4:', (end_4-end_3), 'sec')"
   ]
  },
  {
   "cell_type": "code",
   "execution_count": 47,
   "id": "568ff35d",
   "metadata": {},
   "outputs": [
    {
     "name": "stderr",
     "output_type": "stream",
     "text": [
      "D:\\anaconda\\lib\\site-packages\\sklearn\\manifold\\_spectral_embedding.py:259: UserWarning: Graph is not fully connected, spectral embedding may not work as expected.\n",
      "  warnings.warn(\n"
     ]
    }
   ],
   "source": [
    "# побудуємо ще 2 альтернативні моделі, тільки змінимо значення параметрів\n",
    "\n",
    "start_time = time.time()\n",
    "sc_alt = SpectralClustering(n_clusters=2,\n",
    "                            affinity='nearest_neighbors',\n",
    "                            eigen_solver='lobpcg').fit(X)\n",
    "end_time = time.time()"
   ]
  },
  {
   "cell_type": "code",
   "execution_count": 48,
   "id": "fe1c2433",
   "metadata": {},
   "outputs": [],
   "source": [
    "labels_alt = sc_alt.labels_"
   ]
  },
  {
   "cell_type": "code",
   "execution_count": 49,
   "id": "8cf206bf",
   "metadata": {},
   "outputs": [
    {
     "name": "stdout",
     "output_type": "stream",
     "text": [
      "Davies-Bouldin Score: 1.149799505642599\n",
      "Silhouette Score: 0.33796438989112365\n",
      "Adjusted Rand Score: 1.0\n",
      "\n",
      "\n",
      "Work Time: 6.198617935180664 sec\n"
     ]
    }
   ],
   "source": [
    "print('Davies-Bouldin Score:',davies_bouldin_score(X, labels_alt))\n",
    "print(\"Silhouette Score:\",silhouette_score(X, labels_alt))\n",
    "print(\"Adjusted Rand Score:\",adjusted_rand_score(y, labels_alt))\n",
    "print(\"\\n\\nWork Time:\", (end_time - start_time), \"sec\")"
   ]
  },
  {
   "cell_type": "code",
   "execution_count": 51,
   "id": "49e2a455",
   "metadata": {},
   "outputs": [
    {
     "name": "stderr",
     "output_type": "stream",
     "text": [
      "D:\\anaconda\\lib\\site-packages\\sklearn\\manifold\\_spectral_embedding.py:259: UserWarning: Graph is not fully connected, spectral embedding may not work as expected.\n",
      "  warnings.warn(\n"
     ]
    }
   ],
   "source": [
    "start_t = time.time()\n",
    "sc_alt_2 = SpectralClustering(n_clusters=2,\n",
    "                            affinity='nearest_neighbors',\n",
    "                            eigen_solver='amg').fit(X)\n",
    "end_t = time.time()"
   ]
  },
  {
   "cell_type": "code",
   "execution_count": 53,
   "id": "da7ecb6b",
   "metadata": {},
   "outputs": [
    {
     "name": "stdout",
     "output_type": "stream",
     "text": [
      "Davies-Bouldin Score: 1.149799505642599\n",
      "Silhouette Score: 0.33796438989112365\n",
      "Adjusted Rand Score: 1.0\n",
      "\n",
      "\n",
      "Work Time: 0.9940364360809326 sec\n"
     ]
    }
   ],
   "source": [
    "labels_alt_2 = sc_alt_2.labels_\n",
    "print('Davies-Bouldin Score:',davies_bouldin_score(X, labels_alt_2))\n",
    "print(\"Silhouette Score:\",silhouette_score(X, labels_alt_2))\n",
    "print(\"Adjusted Rand Score:\",adjusted_rand_score(y, labels_alt_2))\n",
    "print(\"\\n\\nWork Time:\", (end_t - start_t), \"sec\")"
   ]
  },
  {
   "cell_type": "markdown",
   "id": "a5ecfca8",
   "metadata": {},
   "source": [
    "### 7. Розрахунок значень метрик якості кластеризації головної моделі"
   ]
  },
  {
   "cell_type": "code",
   "execution_count": 13,
   "id": "139b8fd7",
   "metadata": {},
   "outputs": [
    {
     "name": "stdout",
     "output_type": "stream",
     "text": [
      "Davies-Bouldin Score: 1.1510856083195413\n",
      "Silhouette Score: 0.3375767196043007\n",
      "Adjusted Rand Score: 1.0\n"
     ]
    }
   ],
   "source": [
    "print('Davies-Bouldin Score:',davies_bouldin_score(X, labels))\n",
    "\n",
    "print(\"Silhouette Score:\",silhouette_score(X, labels))\n",
    "\n",
    "print(\"Adjusted Rand Score:\",adjusted_rand_score(y, labels))"
   ]
  },
  {
   "cell_type": "markdown",
   "id": "57c27361",
   "metadata": {},
   "source": [
    "### 8. Аналіз результатів кластеризації"
   ]
  },
  {
   "cell_type": "markdown",
   "id": "7ece6ae1",
   "metadata": {},
   "source": [
    "<font size=\"4\"><center><i>Чи є розбиття стабiльним пiсля вилучення окремих об’єктiв?</i><center></font>"
   ]
  },
  {
   "cell_type": "code",
   "execution_count": 17,
   "id": "3222adf7",
   "metadata": {},
   "outputs": [
    {
     "data": {
      "text/html": [
       "<div>\n",
       "<style scoped>\n",
       "    .dataframe tbody tr th:only-of-type {\n",
       "        vertical-align: middle;\n",
       "    }\n",
       "\n",
       "    .dataframe tbody tr th {\n",
       "        vertical-align: top;\n",
       "    }\n",
       "\n",
       "    .dataframe thead th {\n",
       "        text-align: right;\n",
       "    }\n",
       "</style>\n",
       "<table border=\"1\" class=\"dataframe\">\n",
       "  <thead>\n",
       "    <tr style=\"text-align: right;\">\n",
       "      <th></th>\n",
       "      <th>X1</th>\n",
       "      <th>X2</th>\n",
       "      <th>y</th>\n",
       "    </tr>\n",
       "  </thead>\n",
       "  <tbody>\n",
       "    <tr>\n",
       "      <th>0</th>\n",
       "      <td>0.988653</td>\n",
       "      <td>0.147396</td>\n",
       "      <td>0</td>\n",
       "    </tr>\n",
       "    <tr>\n",
       "      <th>1</th>\n",
       "      <td>0.211315</td>\n",
       "      <td>1.000142</td>\n",
       "      <td>0</td>\n",
       "    </tr>\n",
       "    <tr>\n",
       "      <th>2</th>\n",
       "      <td>1.702444</td>\n",
       "      <td>-0.212700</td>\n",
       "      <td>1</td>\n",
       "    </tr>\n",
       "    <tr>\n",
       "      <th>3</th>\n",
       "      <td>0.167409</td>\n",
       "      <td>0.030187</td>\n",
       "      <td>1</td>\n",
       "    </tr>\n",
       "    <tr>\n",
       "      <th>4</th>\n",
       "      <td>1.759524</td>\n",
       "      <td>-0.089843</td>\n",
       "      <td>1</td>\n",
       "    </tr>\n",
       "    <tr>\n",
       "      <th>...</th>\n",
       "      <td>...</td>\n",
       "      <td>...</td>\n",
       "      <td>...</td>\n",
       "    </tr>\n",
       "    <tr>\n",
       "      <th>9995</th>\n",
       "      <td>-0.925459</td>\n",
       "      <td>0.385375</td>\n",
       "      <td>0</td>\n",
       "    </tr>\n",
       "    <tr>\n",
       "      <th>9996</th>\n",
       "      <td>0.185799</td>\n",
       "      <td>-0.127954</td>\n",
       "      <td>1</td>\n",
       "    </tr>\n",
       "    <tr>\n",
       "      <th>9997</th>\n",
       "      <td>0.889153</td>\n",
       "      <td>0.486508</td>\n",
       "      <td>0</td>\n",
       "    </tr>\n",
       "    <tr>\n",
       "      <th>9998</th>\n",
       "      <td>-0.423944</td>\n",
       "      <td>0.888138</td>\n",
       "      <td>0</td>\n",
       "    </tr>\n",
       "    <tr>\n",
       "      <th>9999</th>\n",
       "      <td>-0.985850</td>\n",
       "      <td>0.240875</td>\n",
       "      <td>0</td>\n",
       "    </tr>\n",
       "  </tbody>\n",
       "</table>\n",
       "<p>10000 rows × 3 columns</p>\n",
       "</div>"
      ],
      "text/plain": [
       "            X1        X2  y\n",
       "0     0.988653  0.147396  0\n",
       "1     0.211315  1.000142  0\n",
       "2     1.702444 -0.212700  1\n",
       "3     0.167409  0.030187  1\n",
       "4     1.759524 -0.089843  1\n",
       "...        ...       ... ..\n",
       "9995 -0.925459  0.385375  0\n",
       "9996  0.185799 -0.127954  1\n",
       "9997  0.889153  0.486508  0\n",
       "9998 -0.423944  0.888138  0\n",
       "9999 -0.985850  0.240875  0\n",
       "\n",
       "[10000 rows x 3 columns]"
      ]
     },
     "execution_count": 17,
     "metadata": {},
     "output_type": "execute_result"
    }
   ],
   "source": [
    "# видалимо 5% даних\n",
    "\n",
    "df = pd.DataFrame(dict(X1=X[:, 0], X2=X[:, 1], y=y))\n",
    "new_df = df\n",
    "new_df"
   ]
  },
  {
   "cell_type": "code",
   "execution_count": 18,
   "id": "e620ba0d",
   "metadata": {},
   "outputs": [],
   "source": [
    "rand_arr = np.random.randint(10000, size=500)\n",
    "new_df = new_df.drop(labels=rand_arr, axis=0)"
   ]
  },
  {
   "cell_type": "code",
   "execution_count": 23,
   "id": "5d012d71",
   "metadata": {},
   "outputs": [],
   "source": [
    "X5 = new_df[['X1','X2']].to_numpy()\n",
    "y5 = new_df['y'].to_numpy()"
   ]
  },
  {
   "cell_type": "code",
   "execution_count": 25,
   "id": "a525b75f",
   "metadata": {},
   "outputs": [
    {
     "name": "stderr",
     "output_type": "stream",
     "text": [
      "D:\\anaconda\\lib\\site-packages\\sklearn\\manifold\\_spectral_embedding.py:259: UserWarning: Graph is not fully connected, spectral embedding may not work as expected.\n",
      "  warnings.warn(\n"
     ]
    }
   ],
   "source": [
    "sc_5 = SpectralClustering(n_clusters = 2, affinity = 'nearest_neighbors').fit(X5)"
   ]
  },
  {
   "cell_type": "code",
   "execution_count": 26,
   "id": "4c18e48a",
   "metadata": {},
   "outputs": [],
   "source": [
    "labels_5 = sc_5.labels_"
   ]
  },
  {
   "cell_type": "code",
   "execution_count": 27,
   "id": "9f0214ec",
   "metadata": {},
   "outputs": [
    {
     "name": "stdout",
     "output_type": "stream",
     "text": [
      "Davies-Bouldin Score: 1.1540993517556555\n",
      "Silhouette Score: 0.33673252807676574\n",
      "Adjusted Rand Score: 1.0\n"
     ]
    }
   ],
   "source": [
    "print('Davies-Bouldin Score:',davies_bouldin_score(X5, labels_5))\n",
    "\n",
    "print(\"Silhouette Score:\",silhouette_score(X5, labels_5))\n",
    "\n",
    "print(\"Adjusted Rand Score:\",adjusted_rand_score(y5, labels_5))"
   ]
  },
  {
   "cell_type": "code",
   "execution_count": 34,
   "id": "c2e34016",
   "metadata": {},
   "outputs": [],
   "source": [
    "# видалимо 15% даних\n",
    "\n",
    "rand_arr_15 = np.random.randint(10000, size=1500)\n",
    "df_15 = df\n",
    "df_15 = df_15.drop(labels=rand_arr_15, axis=0)\n",
    "X_15 = df_15[['X1','X2']].to_numpy()\n",
    "y_15 = df_15['y'].to_numpy()"
   ]
  },
  {
   "cell_type": "code",
   "execution_count": 36,
   "id": "c3820274",
   "metadata": {},
   "outputs": [
    {
     "name": "stderr",
     "output_type": "stream",
     "text": [
      "D:\\anaconda\\lib\\site-packages\\sklearn\\manifold\\_spectral_embedding.py:259: UserWarning: Graph is not fully connected, spectral embedding may not work as expected.\n",
      "  warnings.warn(\n"
     ]
    }
   ],
   "source": [
    "sc_15 = SpectralClustering(n_clusters = 2, affinity='nearest_neighbors').fit(X_15)"
   ]
  },
  {
   "cell_type": "code",
   "execution_count": 37,
   "id": "2415ce5c",
   "metadata": {},
   "outputs": [],
   "source": [
    "labels_15 = sc_15.labels_"
   ]
  },
  {
   "cell_type": "code",
   "execution_count": 38,
   "id": "ecb5ba0e",
   "metadata": {},
   "outputs": [
    {
     "name": "stdout",
     "output_type": "stream",
     "text": [
      "Davies-Bouldin Score: 1.1590898203998035\n",
      "Silhouette Score: 0.3354154988393716\n",
      "Adjusted Rand Score: 1.0\n"
     ]
    }
   ],
   "source": [
    "print('Davies-Bouldin Score:',davies_bouldin_score(X_15, labels_15))\n",
    "\n",
    "print(\"Silhouette Score:\",silhouette_score(X_15, labels_15))\n",
    "\n",
    "print(\"Adjusted Rand Score:\",adjusted_rand_score(y_15, labels_15))"
   ]
  },
  {
   "cell_type": "code",
   "execution_count": 39,
   "id": "ea266e7d",
   "metadata": {},
   "outputs": [],
   "source": [
    "# видалимо 35% даних\n",
    "\n",
    "rand_arr_35 = np.random.randint(10000, size=3500)\n",
    "df_35 = df\n",
    "df_35 = df_35.drop(labels=rand_arr_35, axis=0)\n",
    "X_35 = df_35[['X1','X2']].to_numpy()\n",
    "y_35 = df_35['y'].to_numpy()"
   ]
  },
  {
   "cell_type": "code",
   "execution_count": 40,
   "id": "892731c0",
   "metadata": {},
   "outputs": [
    {
     "name": "stderr",
     "output_type": "stream",
     "text": [
      "D:\\anaconda\\lib\\site-packages\\sklearn\\manifold\\_spectral_embedding.py:259: UserWarning: Graph is not fully connected, spectral embedding may not work as expected.\n",
      "  warnings.warn(\n"
     ]
    }
   ],
   "source": [
    "sc_35 = SpectralClustering(n_clusters = 2, affinity='nearest_neighbors').fit(X_35)"
   ]
  },
  {
   "cell_type": "code",
   "execution_count": 42,
   "id": "42963933",
   "metadata": {},
   "outputs": [],
   "source": [
    "labels_35 = sc_35.labels_"
   ]
  },
  {
   "cell_type": "code",
   "execution_count": 43,
   "id": "496e05e0",
   "metadata": {},
   "outputs": [
    {
     "name": "stdout",
     "output_type": "stream",
     "text": [
      "Davies-Bouldin Score: 1.1477789530282447\n",
      "Silhouette Score: 0.33840753205568525\n",
      "Adjusted Rand Score: 1.0\n"
     ]
    }
   ],
   "source": [
    "print('Davies-Bouldin Score:',davies_bouldin_score(X_35, labels_35))\n",
    "\n",
    "print(\"Silhouette Score:\",silhouette_score(X_35, labels_35))\n",
    "\n",
    "print(\"Adjusted Rand Score:\",adjusted_rand_score(y_35, labels_35))"
   ]
  },
  {
   "cell_type": "code",
   "execution_count": 41,
   "id": "6995c264",
   "metadata": {},
   "outputs": [],
   "source": [
    "# наостанок видалимо 45% даних\n",
    "\n",
    "rand_arr_45 = np.random.randint(10000, size=4500)\n",
    "df_45 = df\n",
    "df_45 = df_45.drop(labels=rand_arr_35, axis=0)\n",
    "X_45 = df_45[['X1','X2']].to_numpy()\n",
    "y_45 = df_45['y'].to_numpy()"
   ]
  },
  {
   "cell_type": "code",
   "execution_count": 44,
   "id": "95c05863",
   "metadata": {},
   "outputs": [
    {
     "name": "stderr",
     "output_type": "stream",
     "text": [
      "D:\\anaconda\\lib\\site-packages\\sklearn\\manifold\\_spectral_embedding.py:259: UserWarning: Graph is not fully connected, spectral embedding may not work as expected.\n",
      "  warnings.warn(\n"
     ]
    }
   ],
   "source": [
    "sc_45 = SpectralClustering(n_clusters = 2, affinity='nearest_neighbors').fit(X_45)"
   ]
  },
  {
   "cell_type": "code",
   "execution_count": 45,
   "id": "f5d2ac1b",
   "metadata": {},
   "outputs": [
    {
     "name": "stdout",
     "output_type": "stream",
     "text": [
      "Davies-Bouldin Score: 1.1477789530282447\n",
      "Silhouette Score: 0.33840753205568525\n",
      "Adjusted Rand Score: 1.0\n"
     ]
    }
   ],
   "source": [
    "labels_45 = sc_45.labels_\n",
    "\n",
    "print('Davies-Bouldin Score:',davies_bouldin_score(X_35, labels_35))\n",
    "print(\"Silhouette Score:\",silhouette_score(X_35, labels_35))\n",
    "print(\"Adjusted Rand Score:\",adjusted_rand_score(y_35, labels_35))"
   ]
  },
  {
   "cell_type": "markdown",
   "id": "b12e70b6",
   "metadata": {},
   "source": [
    "Отже, у даному пункті ми видаляли різну кількість даних: починаючи з 5% і закінчуючи 45% даних.\n",
    "Для оновлених даних побудували окрему модель та знайшли результати значень метрик якості кластеризації.\n",
    "Порівнюючи усі отримані результати для кожного такого набору даних між собою та між результати головної моделі,\n",
    "ми помітимо, що значення однакові(до 2 знаків після коми включно). Графічно побудувавши результаи кластеризації,\n",
    "можна пересвідчитись у стабільності розбиття.\n",
    "<b>Отже,  розбиття є стабільним після видалення деяких даних.</b>"
   ]
  },
  {
   "cell_type": "markdown",
   "id": "e1c8d730",
   "metadata": {},
   "source": [
    "### 9,10. Висновки про якість роботи моделей та вибір найкращої моделі"
   ]
  },
  {
   "cell_type": "markdown",
   "id": "fbc6f447",
   "metadata": {},
   "source": [
    "В результаті роботи з поточним набором даних я побудувала 5 моделей:\n",
    "- основна модель, що розбиває модель на 2 кластери;\n",
    "- 2 альтернативні моделі з розбиттям на 3 та 4 кластери відповідно;\n",
    "- 2 альтернативні моделі з іншими значеннями параметру моделі 'eigen_solver'.\n",
    "\n",
    "Для кожної з моделей були знайдені значення метрик якості роботи, а також час побудови моделі.\n",
    "Порівнюючи результати метрик, бачимо, що моделі, які розбивали дані на 3 або ж 4 кластери мали найгірші значення\n",
    "метрик(Adjusted Rand Score). \n",
    "\n",
    "<i>Чому інші дві метрики показали \"кращі\" результати?</i> \n",
    "Справа в тому, що метрика davies_bouldin_score визначається як середня міра подібності кожного кластера з його найбільш схожим кластером, де подібність є відношенням  відстаней усередині кластера до відстаней між кластерами. Порівнюючи розбиття на 4 кластери та на 2 кластери, можемо зрозуміти, що відстань між 4-ма кластерами більші за значеннями, ніж відстані між 2-ма кластерами, що і вплинуло на результат даної метрики.\n",
    "\n",
    "Значення коефіцієнту силуету, що близькі до 0 вказують на те, що вибірка знаходиться на або дуже близько до границі рішень між двома сусідніми кластерами."
   ]
  },
  {
   "cell_type": "markdown",
   "id": "6933fb81",
   "metadata": {},
   "source": [
    "Тепер проаналізуємо альтернативні моделі, які мали різні значення параметру 'eigen_solver'.\n",
    "Порівнюючи з основною моделлю, результати значень метрик якості були однаковими(включно до 2-х знаків після коми).\n",
    "Але тепер порівняємо час роботи кожної з трьох моделей:\n",
    "- час роботи основної моделі: ~ 84 секунди;\n",
    "- час роботи моделі sc_alt: ~ 6 секунд;\n",
    "- час роботи моделі sc_alt_2: ~ 1 секунда. \n",
    "\n",
    "Як можемо помітити, що остання модель показала себе найкраще серед інших наведених. Проте, наведу трішки теоретичної інформації\n",
    "для кращого аналізу. Параметр eigen_solver може приймати 3 значення - 'amg', 'arpack', 'lobpcg' (default = 'arpack').\n",
    "Даний параметр визначає метод пошуку власних чисел. Так, 'lobpcg'  та 'amg' працюють швидше, але 'amg' на великих наборах даних, попри швидкодію, може бути нестабільним. Наший набір даних складається 10 000 об'єктів, тому для нього доцільно використати\n",
    "метод 'amg'. А от для набагато більших датасетів краще використосувати 'lobcpg' для уникнення проблеми нестабільності."
   ]
  },
  {
   "cell_type": "markdown",
   "id": "26c1f6f0",
   "metadata": {},
   "source": [
    "<b>Остаточно, для поточного набору даних найкращою моделлю можна вважати модель sc_alt_2.</b>\n",
    "\n",
    "\n",
    "*<i>Але при збільшенні кількості прикладів, доцільніше взяти за найкращу модель sc_alt.*</i>"
   ]
  }
 ],
 "metadata": {
  "kernelspec": {
   "display_name": "Python 3 (ipykernel)",
   "language": "python",
   "name": "python3"
  },
  "language_info": {
   "codemirror_mode": {
    "name": "ipython",
    "version": 3
   },
   "file_extension": ".py",
   "mimetype": "text/x-python",
   "name": "python",
   "nbconvert_exporter": "python",
   "pygments_lexer": "ipython3",
   "version": "3.9.7"
  }
 },
 "nbformat": 4,
 "nbformat_minor": 5
}
